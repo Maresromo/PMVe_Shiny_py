{
 "cells": [
  {
   "cell_type": "code",
   "execution_count": 2,
   "id": "01b4f410-a1a6-4501-8ce6-b2e0f3a3a66c",
   "metadata": {},
   "outputs": [
    {
     "name": "stdout",
     "output_type": "stream",
     "text": [
      "Collecting qrcode[pil]\n",
      "  Downloading qrcode-8.0-py3-none-any.whl.metadata (17 kB)\n",
      "Requirement already satisfied: colorama in c:\\users\\roele\\appdata\\local\\programs\\python\\python312\\lib\\site-packages (from qrcode[pil]) (0.4.6)\n",
      "Requirement already satisfied: pillow>=9.1.0 in c:\\users\\roele\\appdata\\local\\programs\\python\\python312\\lib\\site-packages (from qrcode[pil]) (10.4.0)\n",
      "Downloading qrcode-8.0-py3-none-any.whl (45 kB)\n",
      "Installing collected packages: qrcode\n",
      "Successfully installed qrcode-8.0\n",
      "Note: you may need to restart the kernel to use updated packages.\n"
     ]
    }
   ],
   "source": [
    "pip install qrcode[pil]"
   ]
  },
  {
   "cell_type": "code",
   "execution_count": 5,
   "id": "a8e4bdfb-2d16-4301-b3ae-1f7ca85bed9c",
   "metadata": {},
   "outputs": [],
   "source": [
    "import qrcode\n",
    "\n",
    "# URL que quieres convertir a código QR\n",
    "url = \"http://geeapps.ier.unam.mx:8000/\"\n",
    "\n",
    "# Crear el código QR\n",
    "qr = qrcode.QRCode(\n",
    "    version=1,  # Controla el tamaño del código QR\n",
    "    error_correction=qrcode.constants.ERROR_CORRECT_L,  # Nivel de corrección de errores\n",
    "    box_size=10,  # Tamaño de cada caja en píxeles\n",
    "    border=4,  # Tamaño del borde\n",
    ")\n",
    "\n",
    "# Añadir la URL al código QR\n",
    "qr.add_data(url)\n",
    "qr.make(fit=True)\n",
    "\n",
    "# Crear imagen del código QR\n",
    "img = qr.make_image(fill='black', back_color='white')\n",
    "\n",
    "# Guardar la imagen en un archivo\n",
    "img.save(\"codigo_qr.png\")\n",
    "\n",
    "# Mostrar la imagen del código QR (opcional)\n",
    "img.show()\n"
   ]
  },
  {
   "cell_type": "code",
   "execution_count": null,
   "id": "43772b4a-55a4-4a4d-ba90-d9cb938014e4",
   "metadata": {},
   "outputs": [],
   "source": []
  }
 ],
 "metadata": {
  "kernelspec": {
   "display_name": "Python 3 (ipykernel)",
   "language": "python",
   "name": "python3"
  },
  "language_info": {
   "codemirror_mode": {
    "name": "ipython",
    "version": 3
   },
   "file_extension": ".py",
   "mimetype": "text/x-python",
   "name": "python",
   "nbconvert_exporter": "python",
   "pygments_lexer": "ipython3",
   "version": "3.12.5"
  }
 },
 "nbformat": 4,
 "nbformat_minor": 5
}
