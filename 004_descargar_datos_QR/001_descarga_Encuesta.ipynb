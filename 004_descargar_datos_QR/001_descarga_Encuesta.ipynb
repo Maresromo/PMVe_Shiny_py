{
 "cells": [
  {
   "cell_type": "code",
   "execution_count": 1,
   "metadata": {},
   "outputs": [],
   "source": [
    "from iertools.tb import *\n",
    "import matplotlib.pyplot as plt\n",
    "import pandas as pd\n",
    "import matplotlib.dates as mdates"
   ]
  },
  {
   "cell_type": "code",
   "execution_count": 2,
   "metadata": {},
   "outputs": [],
   "source": [
    "# pip install git+https://github.com/AltamarMx/iertools.git"
   ]
  },
  {
   "cell_type": "code",
   "execution_count": 3,
   "metadata": {
    "collapsed": true,
    "jupyter": {
     "outputs_hidden": true
    },
    "scrolled": true
   },
   "outputs": [
    {
     "name": "stdout",
     "output_type": "stream",
     "text": [
      "[\"temperature\",\"humidity\",\"iluminance\",\"sound\",\"e\",\"voto\",\"met\",\"clo\"]\n"
     ]
    },
    {
     "name": "stderr",
     "output_type": "stream",
     "text": [
      "C:\\Users\\roele\\AppData\\Local\\Programs\\Python\\Python312\\Lib\\site-packages\\iertools\\tb.py:120: FutureWarning: Passing literal json to 'read_json' is deprecated and will be removed in a future version. To read from a literal string, wrap it in a 'StringIO' object.\n",
      "  datos = pd.read_json(telemetry.text, orient=None)\n",
      "C:\\Users\\roele\\AppData\\Local\\Programs\\Python\\Python312\\Lib\\site-packages\\iertools\\tb.py:128: FutureWarning: ChainedAssignmentError: behaviour will change in pandas 3.0!\n",
      "You are setting values through chained assignment. Currently this works in certain cases, but when using Copy-on-Write (which will become the default behaviour in pandas 3.0) this will never work to update the original DataFrame or Series, because the intermediate object on which we are setting values will behave as a copy.\n",
      "A typical example is when you are setting values in a column of a DataFrame, like:\n",
      "\n",
      "df[\"col\"][row_indexer] = value\n",
      "\n",
      "Use `df.loc[row_indexer, \"col\"] = values` instead, to perform the assignment in a single step and ensure this keeps updating the original `df`.\n",
      "\n",
      "See the caveats in the documentation: https://pandas.pydata.org/pandas-docs/stable/user_guide/indexing.html#returning-a-view-versus-a-copy\n",
      "\n",
      "  df[key].iloc[i] = float(valor)\n",
      "C:\\Users\\roele\\AppData\\Local\\Programs\\Python\\Python312\\Lib\\site-packages\\iertools\\tb.py:136: FutureWarning: 'H' is deprecated and will be removed in a future version. Please use 'h' instead of 'H'.\n",
      "  df.index += pd.Timedelta('-6H')\n",
      "C:\\Users\\roele\\AppData\\Local\\Programs\\Python\\Python312\\Lib\\site-packages\\iertools\\tb.py:120: FutureWarning: Passing literal json to 'read_json' is deprecated and will be removed in a future version. To read from a literal string, wrap it in a 'StringIO' object.\n",
      "  datos = pd.read_json(telemetry.text, orient=None)\n",
      "C:\\Users\\roele\\AppData\\Local\\Programs\\Python\\Python312\\Lib\\site-packages\\iertools\\tb.py:128: FutureWarning: ChainedAssignmentError: behaviour will change in pandas 3.0!\n",
      "You are setting values through chained assignment. Currently this works in certain cases, but when using Copy-on-Write (which will become the default behaviour in pandas 3.0) this will never work to update the original DataFrame or Series, because the intermediate object on which we are setting values will behave as a copy.\n",
      "A typical example is when you are setting values in a column of a DataFrame, like:\n",
      "\n",
      "df[\"col\"][row_indexer] = value\n",
      "\n",
      "Use `df.loc[row_indexer, \"col\"] = values` instead, to perform the assignment in a single step and ensure this keeps updating the original `df`.\n",
      "\n",
      "See the caveats in the documentation: https://pandas.pydata.org/pandas-docs/stable/user_guide/indexing.html#returning-a-view-versus-a-copy\n",
      "\n",
      "  df[key].iloc[i] = float(valor)\n",
      "C:\\Users\\roele\\AppData\\Local\\Programs\\Python\\Python312\\Lib\\site-packages\\iertools\\tb.py:136: FutureWarning: 'H' is deprecated and will be removed in a future version. Please use 'h' instead of 'H'.\n",
      "  df.index += pd.Timedelta('-6H')\n",
      "C:\\Users\\roele\\AppData\\Local\\Programs\\Python\\Python312\\Lib\\site-packages\\iertools\\tb.py:120: FutureWarning: Passing literal json to 'read_json' is deprecated and will be removed in a future version. To read from a literal string, wrap it in a 'StringIO' object.\n",
      "  datos = pd.read_json(telemetry.text, orient=None)\n",
      "C:\\Users\\roele\\AppData\\Local\\Programs\\Python\\Python312\\Lib\\site-packages\\iertools\\tb.py:128: FutureWarning: ChainedAssignmentError: behaviour will change in pandas 3.0!\n",
      "You are setting values through chained assignment. Currently this works in certain cases, but when using Copy-on-Write (which will become the default behaviour in pandas 3.0) this will never work to update the original DataFrame or Series, because the intermediate object on which we are setting values will behave as a copy.\n",
      "A typical example is when you are setting values in a column of a DataFrame, like:\n",
      "\n",
      "df[\"col\"][row_indexer] = value\n",
      "\n",
      "Use `df.loc[row_indexer, \"col\"] = values` instead, to perform the assignment in a single step and ensure this keeps updating the original `df`.\n",
      "\n",
      "See the caveats in the documentation: https://pandas.pydata.org/pandas-docs/stable/user_guide/indexing.html#returning-a-view-versus-a-copy\n",
      "\n",
      "  df[key].iloc[i] = float(valor)\n",
      "C:\\Users\\roele\\AppData\\Local\\Programs\\Python\\Python312\\Lib\\site-packages\\iertools\\tb.py:136: FutureWarning: 'H' is deprecated and will be removed in a future version. Please use 'h' instead of 'H'.\n",
      "  df.index += pd.Timedelta('-6H')\n",
      "C:\\Users\\roele\\AppData\\Local\\Programs\\Python\\Python312\\Lib\\site-packages\\iertools\\tb.py:120: FutureWarning: Passing literal json to 'read_json' is deprecated and will be removed in a future version. To read from a literal string, wrap it in a 'StringIO' object.\n",
      "  datos = pd.read_json(telemetry.text, orient=None)\n",
      "C:\\Users\\roele\\AppData\\Local\\Programs\\Python\\Python312\\Lib\\site-packages\\iertools\\tb.py:128: FutureWarning: ChainedAssignmentError: behaviour will change in pandas 3.0!\n",
      "You are setting values through chained assignment. Currently this works in certain cases, but when using Copy-on-Write (which will become the default behaviour in pandas 3.0) this will never work to update the original DataFrame or Series, because the intermediate object on which we are setting values will behave as a copy.\n",
      "A typical example is when you are setting values in a column of a DataFrame, like:\n",
      "\n",
      "df[\"col\"][row_indexer] = value\n",
      "\n",
      "Use `df.loc[row_indexer, \"col\"] = values` instead, to perform the assignment in a single step and ensure this keeps updating the original `df`.\n",
      "\n",
      "See the caveats in the documentation: https://pandas.pydata.org/pandas-docs/stable/user_guide/indexing.html#returning-a-view-versus-a-copy\n",
      "\n",
      "  df[key].iloc[i] = float(valor)\n",
      "C:\\Users\\roele\\AppData\\Local\\Programs\\Python\\Python312\\Lib\\site-packages\\iertools\\tb.py:136: FutureWarning: 'H' is deprecated and will be removed in a future version. Please use 'h' instead of 'H'.\n",
      "  df.index += pd.Timedelta('-6H')\n"
     ]
    }
   ],
   "source": [
    "fecha1 = parse(\"2024-10-16 00:00:00\")   #Año, mes , dia\n",
    "fecha2 = fecha1 + pd.Timedelta(\"2D\")\n",
    "\n",
    "tmp= TB(config_file='config_encuesta.ini',device_name='Encuestas_Shiny')\n",
    "parametros = [\"clo\",\"e\",\"met\",\"voto\"]\n",
    "\n",
    "encuesta = pd.concat([tmp.get_df(key=parametro,start_datetime=fecha1,end_datetime=fecha2) for parametro in parametros],axis=1)\n"
   ]
  },
  {
   "cell_type": "code",
   "execution_count": 4,
   "metadata": {},
   "outputs": [
    {
     "data": {
      "text/html": [
       "<div>\n",
       "<style scoped>\n",
       "    .dataframe tbody tr th:only-of-type {\n",
       "        vertical-align: middle;\n",
       "    }\n",
       "\n",
       "    .dataframe tbody tr th {\n",
       "        vertical-align: top;\n",
       "    }\n",
       "\n",
       "    .dataframe thead th {\n",
       "        text-align: right;\n",
       "    }\n",
       "</style>\n",
       "<table border=\"1\" class=\"dataframe\">\n",
       "  <thead>\n",
       "    <tr style=\"text-align: right;\">\n",
       "      <th></th>\n",
       "      <th>clo</th>\n",
       "      <th>e</th>\n",
       "      <th>met</th>\n",
       "      <th>voto</th>\n",
       "    </tr>\n",
       "    <tr>\n",
       "      <th>ts</th>\n",
       "      <th></th>\n",
       "      <th></th>\n",
       "      <th></th>\n",
       "      <th></th>\n",
       "    </tr>\n",
       "  </thead>\n",
       "  <tbody>\n",
       "    <tr>\n",
       "      <th>2024-10-16 10:22:10.207</th>\n",
       "      <td>0.51</td>\n",
       "      <td>0.7</td>\n",
       "      <td>1.0</td>\n",
       "      <td>-3.0</td>\n",
       "    </tr>\n",
       "    <tr>\n",
       "      <th>2024-10-16 10:22:10.156</th>\n",
       "      <td>0.36</td>\n",
       "      <td>0.7</td>\n",
       "      <td>1.0</td>\n",
       "      <td>3.0</td>\n",
       "    </tr>\n",
       "    <tr>\n",
       "      <th>2024-10-16 10:18:08.016</th>\n",
       "      <td>0.20</td>\n",
       "      <td>0.7</td>\n",
       "      <td>1.0</td>\n",
       "      <td>0.0</td>\n",
       "    </tr>\n",
       "    <tr>\n",
       "      <th>2024-10-16 10:17:54.981</th>\n",
       "      <td>0.10</td>\n",
       "      <td>0.7</td>\n",
       "      <td>1.0</td>\n",
       "      <td>0.0</td>\n",
       "    </tr>\n",
       "    <tr>\n",
       "      <th>2024-10-16 10:15:59.524</th>\n",
       "      <td>0.51</td>\n",
       "      <td>0.7</td>\n",
       "      <td>1.1</td>\n",
       "      <td>0.0</td>\n",
       "    </tr>\n",
       "    <tr>\n",
       "      <th>2024-10-16 00:48:02.747</th>\n",
       "      <td>2.05</td>\n",
       "      <td>0.7</td>\n",
       "      <td>1.0</td>\n",
       "      <td>3.0</td>\n",
       "    </tr>\n",
       "    <tr>\n",
       "      <th>2024-10-16 00:01:51.896</th>\n",
       "      <td>0.10</td>\n",
       "      <td>0.7</td>\n",
       "      <td>1.1</td>\n",
       "      <td>0.0</td>\n",
       "    </tr>\n",
       "    <tr>\n",
       "      <th>2024-10-15 23:32:43.638</th>\n",
       "      <td>0.00</td>\n",
       "      <td>0.7</td>\n",
       "      <td>1.0</td>\n",
       "      <td>0.0</td>\n",
       "    </tr>\n",
       "  </tbody>\n",
       "</table>\n",
       "</div>"
      ],
      "text/plain": [
       "                          clo    e  met  voto\n",
       "ts                                           \n",
       "2024-10-16 10:22:10.207  0.51  0.7  1.0  -3.0\n",
       "2024-10-16 10:22:10.156  0.36  0.7  1.0   3.0\n",
       "2024-10-16 10:18:08.016  0.20  0.7  1.0   0.0\n",
       "2024-10-16 10:17:54.981  0.10  0.7  1.0   0.0\n",
       "2024-10-16 10:15:59.524  0.51  0.7  1.1   0.0\n",
       "2024-10-16 00:48:02.747  2.05  0.7  1.0   3.0\n",
       "2024-10-16 00:01:51.896  0.10  0.7  1.1   0.0\n",
       "2024-10-15 23:32:43.638  0.00  0.7  1.0   0.0"
      ]
     },
     "execution_count": 4,
     "metadata": {},
     "output_type": "execute_result"
    }
   ],
   "source": [
    "encuesta"
   ]
  },
  {
   "cell_type": "code",
   "execution_count": null,
   "metadata": {},
   "outputs": [],
   "source": []
  }
 ],
 "metadata": {
  "kernelspec": {
   "display_name": "Python 3 (ipykernel)",
   "language": "python",
   "name": "python3"
  },
  "language_info": {
   "codemirror_mode": {
    "name": "ipython",
    "version": 3
   },
   "file_extension": ".py",
   "mimetype": "text/x-python",
   "name": "python",
   "nbconvert_exporter": "python",
   "pygments_lexer": "ipython3",
   "version": "3.12.5"
  }
 },
 "nbformat": 4,
 "nbformat_minor": 4
}
