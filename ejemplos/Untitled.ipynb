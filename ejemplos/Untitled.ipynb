{
 "cells": [
  {
   "cell_type": "code",
   "execution_count": 1,
   "id": "edc5f652-40f7-4e2d-9858-cd87eb9ab781",
   "metadata": {},
   "outputs": [],
   "source": [
    "# pip install shiny"
   ]
  },
  {
   "cell_type": "code",
   "execution_count": null,
   "id": "49845fd2-e3b8-40ce-a5a3-c1f1003d34db",
   "metadata": {},
   "outputs": [],
   "source": [
    "from shiny.express import input, render, ui\n",
    "\n",
    "ui.input_slider(\"n\", \"N\", 0, 100, 20)\n",
    "\n",
    "\n",
    "@render.code\n",
    "def txt():\n",
    "    return f\"n*2 is {input.n() * 2}\""
   ]
  },
  {
   "cell_type": "code",
   "execution_count": null,
   "id": "865321c6-f33a-4fc0-aff3-1abd3655dafe",
   "metadata": {},
   "outputs": [],
   "source": []
  }
 ],
 "metadata": {
  "kernelspec": {
   "display_name": "Python 3 (ipykernel)",
   "language": "python",
   "name": "python3"
  },
  "language_info": {
   "codemirror_mode": {
    "name": "ipython",
    "version": 3
   },
   "file_extension": ".py",
   "mimetype": "text/x-python",
   "name": "python",
   "nbconvert_exporter": "python",
   "pygments_lexer": "ipython3",
   "version": "3.12.5"
  }
 },
 "nbformat": 4,
 "nbformat_minor": 5
}
