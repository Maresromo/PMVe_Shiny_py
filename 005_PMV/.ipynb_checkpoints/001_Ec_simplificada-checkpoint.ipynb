{
 "cells": [
  {
   "cell_type": "markdown",
   "id": "584bdba4-fe8a-406a-95c2-8fa2f0fc5fb0",
   "metadata": {},
   "source": []
  },
  {
   "cell_type": "markdown",
   "id": "a13b5be7-1aa2-4ac9-8b33-db44ee15bb9c",
   "metadata": {},
   "source": [
    "$$\n",
    "PMV = \\left[ 0.303 \\cdot e^{-0.036 \\cdot M} + 0.028 \\right] \\cdot \\Big\\{ \n",
    "M - 3.05 \\cdot 10^{-3} \\cdot \\left[ 5733 - 6.99 \\cdot M - P_a \\right] \\\\\n",
    "- 0.42 \\cdot \\left[ M - 58.15 \\right] - 1.7 \\cdot 10^{-5} \\cdot M \\cdot (5867 - P_a) \\\\\n",
    "$$\n",
    "\n",
    "$$\n",
    "- 0.0014 \\cdot M \\cdot (34 - t_a)\n",
    "- 3.96 \\cdot 10^{-8} \\cdot f_{cl} \\cdot \\left[ (t_{cl} + 273)^4 - t_a + 273)^4 \\right] \\\\\n",
    "- f_{cl} \\cdot h_c \\cdot (t_{cl} - t_a) \\Big\\}\n",
    "$$"
   ]
  },
  {
   "cell_type": "markdown",
   "id": "d29f0840-3543-43f1-a19a-5078e14833ea",
   "metadata": {},
   "source": [
    "\n",
    "$$\n",
    "t_{cl} = 35.7 - 0.028 \\cdot M - I_{cl} \\cdot \\Big\\{ \n",
    "3.96 \\cdot 10^{-8} \\cdot f_{cl} \\cdot \\Big[ (t_{cl} + 273)^4 - t_a + 273)^4 \\Big] \n",
    "+ f_{cl} \\cdot h_c \\cdot (t_{cl} - t_a) \\Big\\}\n",
    "$$\n",
    "\n",
    "$$\n",
    "h_c = 2.38 \\cdot |t_{cl} - t_a|^{0.25}\n",
    "$$\n",
    "\n",
    "$$\n",
    "f_{cl} = \n",
    "\\begin{cases} \n",
    "1.00 + 1.290 \\cdot I_{cl}, & \\text{for } I_{cl} \\leq 0.078 \\\\\n",
    "1.00 + 0.645 \\cdot I_{cl}, & \\text{for } I_{cl} > 0.078\n",
    "\\end{cases}\n",
    "$$\n"
   ]
  },
  {
   "cell_type": "code",
   "execution_count": null,
   "id": "e3935f8d-c555-4b30-a6de-2c59c8b2bcb5",
   "metadata": {},
   "outputs": [],
   "source": []
  }
 ],
 "metadata": {
  "kernelspec": {
   "display_name": "Python 3 (ipykernel)",
   "language": "python",
   "name": "python3"
  },
  "language_info": {
   "codemirror_mode": {
    "name": "ipython",
    "version": 3
   },
   "file_extension": ".py",
   "mimetype": "text/x-python",
   "name": "python",
   "nbconvert_exporter": "python",
   "pygments_lexer": "ipython3",
   "version": "3.12.5"
  }
 },
 "nbformat": 4,
 "nbformat_minor": 5
}
